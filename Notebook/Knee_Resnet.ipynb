{
  "nbformat": 4,
  "nbformat_minor": 0,
  "metadata": {
    "colab": {
      "provenance": [],
      "gpuType": "T4"
    },
    "kernelspec": {
      "name": "python3",
      "display_name": "Python 3"
    },
    "language_info": {
      "name": "python"
    },
    "accelerator": "GPU"
  },
  "cells": [
    {
      "cell_type": "code",
      "source": [
        "import torch\n",
        "import torch.nn as nn\n",
        "import torch.optim as optim\n",
        "from torch.utils.data import DataLoader\n",
        "from torchvision import models, transforms\n",
        "from torchvision.datasets import ImageFolder\n",
        "from tqdm import tqdm\n",
        "import matplotlib.pyplot as plt\n",
        "from google.colab import drive\n",
        "import os"
      ],
      "metadata": {
        "id": "PBZGJEvEx83t"
      },
      "execution_count": null,
      "outputs": []
    },
    {
      "cell_type": "code",
      "execution_count": null,
      "metadata": {
        "colab": {
          "base_uri": "https://localhost:8080/"
        },
        "id": "f9tdfKJ6xQXX",
        "outputId": "0b2c4705-1eae-4b58-aa5d-27528c606c16"
      },
      "outputs": [
        {
          "output_type": "stream",
          "name": "stdout",
          "text": [
            "Mounted at /content/drive\n"
          ]
        }
      ],
      "source": [
        "from google.colab import drive\n",
        "drive.mount('/content/drive')"
      ]
    },
    {
      "cell_type": "code",
      "source": [
        "from torchvision import datasets, transforms, models\n",
        "# Thiết lập device\n",
        "device = torch.device(\"cuda\" if torch.cuda.is_available() else \"cpu\")\n",
        "print(f\"Device: {device}\")\n",
        "\n",
        "# Đường dẫn dữ liệu\n",
        "data_dir = '/content/drive/MyDrive/knee_dataset'\n",
        "train_dir = os.path.join(data_dir, 'train')\n",
        "val_dir = os.path.join(data_dir, 'val')\n",
        "test_dir = os.path.join(data_dir, 'test')\n",
        "\n",
        "# Tiền xử lý dữ liệu\n",
        "train_transforms = transforms.Compose([\n",
        "    transforms.Resize((224, 224)),\n",
        "    transforms.RandomHorizontalFlip(),\n",
        "    transforms.ToTensor(),\n",
        "    transforms.Normalize(mean=[0.485, 0.456, 0.406], std=[0.229, 0.224, 0.225])\n",
        "])\n",
        "\n",
        "val_transforms = transforms.Compose([\n",
        "    transforms.Resize((224, 224)),\n",
        "    transforms.ToTensor(),\n",
        "    transforms.Normalize(mean=[0.485, 0.456, 0.406], std=[0.229, 0.224, 0.225])\n",
        "])"
      ],
      "metadata": {
        "colab": {
          "base_uri": "https://localhost:8080/"
        },
        "id": "5lD22JJayZEB",
        "outputId": "1026bac8-efe3-4139-d469-e5576a9d10a6"
      },
      "execution_count": null,
      "outputs": [
        {
          "output_type": "stream",
          "name": "stdout",
          "text": [
            "Device: cuda\n"
          ]
        }
      ]
    },
    {
      "cell_type": "code",
      "source": [
        "# Load dữ liệu\n",
        "train_dataset = datasets.ImageFolder(train_dir, transform=train_transforms)\n",
        "val_dataset = datasets.ImageFolder(val_dir, transform=val_transforms)\n",
        "test_dataset = datasets.ImageFolder(test_dir, transform=val_transforms)\n",
        "\n",
        "train_loader = DataLoader(train_dataset, batch_size=32, shuffle=True, num_workers=2)\n",
        "val_loader = DataLoader(val_dataset, batch_size=32, shuffle=False, num_workers=2)\n",
        "test_loader = DataLoader(test_dataset, batch_size=32, shuffle=False, num_workers=2)\n",
        "\n",
        "print(f\"Train samples: {len(train_dataset)}, Val samples: {len(val_dataset)}, Test samples: {len(test_dataset)}\")\n",
        "print(f\"Classes: {train_dataset.classes}\")"
      ],
      "metadata": {
        "colab": {
          "base_uri": "https://localhost:8080/"
        },
        "id": "7LYg2ozP8RF3",
        "outputId": "e78919ee-f117-4db0-ce9e-85a3ba1cce65"
      },
      "execution_count": null,
      "outputs": [
        {
          "output_type": "stream",
          "name": "stdout",
          "text": [
            "Train samples: 5788, Val samples: 826, Test samples: 1656\n",
            "Classes: ['0', '1', '2', '3', '4']\n"
          ]
        }
      ]
    },
    {
      "cell_type": "code",
      "source": [
        "#Tải mô hình ResNet18\n",
        "model = models.resnet18(pretrained=True)\n",
        "num_features = model.fc.in_features\n",
        "model.fc = nn.Linear(num_features, 5)  # 5 lớp\n",
        "model = model.to(device)\n",
        "\n",
        "# Loss và Optimizer\n",
        "criterion = nn.CrossEntropyLoss()\n",
        "optimizer = optim.SGD(model.parameters(), lr=0.001, momentum=0.9)"
      ],
      "metadata": {
        "colab": {
          "base_uri": "https://localhost:8080/"
        },
        "id": "2ZbApwoVysbd",
        "outputId": "5ffe1744-131f-4209-c1e8-039ec7826ab7"
      },
      "execution_count": null,
      "outputs": [
        {
          "output_type": "stream",
          "name": "stderr",
          "text": [
            "/usr/local/lib/python3.11/dist-packages/torchvision/models/_utils.py:208: UserWarning: The parameter 'pretrained' is deprecated since 0.13 and may be removed in the future, please use 'weights' instead.\n",
            "  warnings.warn(\n",
            "/usr/local/lib/python3.11/dist-packages/torchvision/models/_utils.py:223: UserWarning: Arguments other than a weight enum or `None` for 'weights' are deprecated since 0.13 and may be removed in the future. The current behavior is equivalent to passing `weights=ResNet18_Weights.IMAGENET1K_V1`. You can also use `weights=ResNet18_Weights.DEFAULT` to get the most up-to-date weights.\n",
            "  warnings.warn(msg)\n",
            "Downloading: \"https://download.pytorch.org/models/resnet18-f37072fd.pth\" to /root/.cache/torch/hub/checkpoints/resnet18-f37072fd.pth\n",
            "100%|██████████| 44.7M/44.7M [00:00<00:00, 160MB/s]\n"
          ]
        }
      ]
    },
    {
      "cell_type": "code",
      "source": [
        "# Huấn luyện\n",
        "num_epochs = 25\n",
        "train_losses, val_losses = [], []\n",
        "train_accs, val_accs = [], []\n",
        "\n",
        "for epoch in range(num_epochs):\n",
        "    # Training phase\n",
        "    model.train()\n",
        "    running_loss = 0.0\n",
        "    total_correct = 0\n",
        "    total_samples = 0\n",
        "\n",
        "    pbar = tqdm(train_loader, desc=f\"Epoch [{epoch+1}/{num_epochs}] - Training\")\n",
        "    for images, labels in pbar:\n",
        "        images = images.to(device)\n",
        "        labels = labels.to(device)\n",
        "\n",
        "        optimizer.zero_grad()\n",
        "        outputs = model(images)\n",
        "        loss = criterion(outputs, labels)\n",
        "\n",
        "        loss.backward()\n",
        "        optimizer.step()\n",
        "\n",
        "        running_loss += loss.item() * images.size(0)\n",
        "        _, preds = torch.max(outputs, 1)\n",
        "        total_correct += torch.sum(preds == labels.data)\n",
        "        total_samples += labels.size(0)\n",
        "\n",
        "        pbar.set_postfix({'loss': f'{loss.item():.4f}', 'acc': f'{(total_correct/total_samples*100):.2f}%'})\n",
        "\n",
        "    epoch_loss = running_loss / len(train_dataset)\n",
        "    epoch_acc = total_correct.double() / len(train_dataset)\n",
        "    train_losses.append(epoch_loss)\n",
        "    train_accs.append(epoch_acc.item())\n",
        "\n",
        "    # Validation phase\n",
        "    model.eval()\n",
        "    val_loss = 0.0\n",
        "    val_correct = 0\n",
        "    val_total = 0\n",
        "\n",
        "    with torch.no_grad():\n",
        "        pbar_val = tqdm(val_loader, desc=f\"Epoch [{epoch+1}/{num_epochs}] - Validation\")\n",
        "        for images, labels in pbar_val:\n",
        "            images = images.to(device)\n",
        "            labels = labels.to(device)\n",
        "\n",
        "            outputs = model(images)\n",
        "            loss = criterion(outputs, labels)\n",
        "\n",
        "            val_loss += loss.item() * images.size(0)\n",
        "            _, preds = torch.max(outputs, 1)\n",
        "            val_correct += torch.sum(preds == labels.data)\n",
        "            val_total += labels.size(0)\n",
        "\n",
        "            pbar_val.set_postfix({'val_loss': f'{loss.item():.4f}'})\n",
        "\n",
        "    val_loss = val_loss / len(val_dataset)\n",
        "    val_acc = val_correct.double() / len(val_dataset)\n",
        "    val_losses.append(val_loss)\n",
        "    val_accs.append(val_acc.item())\n",
        "\n",
        "    print(f'Epoch [{epoch+1}/{num_epochs}], Loss: {epoch_loss:.4f}, Acc: {epoch_acc:.4f}, '\n",
        "          f'Val Loss: {val_loss:.4f}, Val Acc: {val_acc:.4f}')"
      ],
      "metadata": {
        "colab": {
          "base_uri": "https://localhost:8080/"
        },
        "id": "tNYpXk1mz-DI",
        "outputId": "3be61cfd-8eb0-498e-8508-05786eaa7703"
      },
      "execution_count": null,
      "outputs": [
        {
          "output_type": "stream",
          "name": "stderr",
          "text": [
            "Epoch [1/25] - Training: 100%|██████████| 181/181 [22:33<00:00,  7.48s/it, loss=0.9982, acc=44.73%]\n",
            "Epoch [1/25] - Validation: 100%|██████████| 26/26 [05:00<00:00, 11.54s/it, val_loss=1.7492]\n"
          ]
        },
        {
          "output_type": "stream",
          "name": "stdout",
          "text": [
            "Epoch [1/25], Loss: 1.2862, Acc: 0.4473, Val Loss: 1.0986, Val Acc: 0.5145\n"
          ]
        },
        {
          "output_type": "stream",
          "name": "stderr",
          "text": [
            "Epoch [2/25] - Training: 100%|██████████| 181/181 [00:28<00:00,  6.35it/s, loss=0.8212, acc=58.67%]\n",
            "Epoch [2/25] - Validation: 100%|██████████| 26/26 [00:03<00:00,  7.86it/s, val_loss=0.7057]\n"
          ]
        },
        {
          "output_type": "stream",
          "name": "stdout",
          "text": [
            "Epoch [2/25], Loss: 0.9798, Acc: 0.5867, Val Loss: 0.9563, Val Acc: 0.5835\n"
          ]
        },
        {
          "output_type": "stream",
          "name": "stderr",
          "text": [
            "Epoch [3/25] - Training: 100%|██████████| 181/181 [00:28<00:00,  6.30it/s, loss=0.7073, acc=64.29%]\n",
            "Epoch [3/25] - Validation: 100%|██████████| 26/26 [00:04<00:00,  5.58it/s, val_loss=0.6810]\n"
          ]
        },
        {
          "output_type": "stream",
          "name": "stdout",
          "text": [
            "Epoch [3/25], Loss: 0.8516, Acc: 0.6429, Val Loss: 0.9497, Val Acc: 0.6077\n"
          ]
        },
        {
          "output_type": "stream",
          "name": "stderr",
          "text": [
            "Epoch [4/25] - Training: 100%|██████████| 181/181 [00:28<00:00,  6.33it/s, loss=1.0680, acc=67.74%]\n",
            "Epoch [4/25] - Validation: 100%|██████████| 26/26 [00:03<00:00,  7.99it/s, val_loss=0.4124]\n"
          ]
        },
        {
          "output_type": "stream",
          "name": "stdout",
          "text": [
            "Epoch [4/25], Loss: 0.7689, Acc: 0.6774, Val Loss: 0.9242, Val Acc: 0.5956\n"
          ]
        },
        {
          "output_type": "stream",
          "name": "stderr",
          "text": [
            "Epoch [5/25] - Training: 100%|██████████| 181/181 [00:28<00:00,  6.36it/s, loss=0.8956, acc=70.89%]\n",
            "Epoch [5/25] - Validation: 100%|██████████| 26/26 [00:03<00:00,  7.36it/s, val_loss=0.5279]\n"
          ]
        },
        {
          "output_type": "stream",
          "name": "stdout",
          "text": [
            "Epoch [5/25], Loss: 0.7042, Acc: 0.7089, Val Loss: 1.1165, Val Acc: 0.5436\n"
          ]
        },
        {
          "output_type": "stream",
          "name": "stderr",
          "text": [
            "Epoch [6/25] - Training: 100%|██████████| 181/181 [00:29<00:00,  6.12it/s, loss=0.7646, acc=74.15%]\n",
            "Epoch [6/25] - Validation: 100%|██████████| 26/26 [00:03<00:00,  6.57it/s, val_loss=0.2378]\n"
          ]
        },
        {
          "output_type": "stream",
          "name": "stdout",
          "text": [
            "Epoch [6/25], Loss: 0.6256, Acc: 0.7415, Val Loss: 0.9590, Val Acc: 0.6138\n"
          ]
        },
        {
          "output_type": "stream",
          "name": "stderr",
          "text": [
            "Epoch [7/25] - Training: 100%|██████████| 181/181 [00:28<00:00,  6.30it/s, loss=0.6036, acc=76.80%]\n",
            "Epoch [7/25] - Validation: 100%|██████████| 26/26 [00:03<00:00,  7.60it/s, val_loss=0.6707]\n"
          ]
        },
        {
          "output_type": "stream",
          "name": "stdout",
          "text": [
            "Epoch [7/25], Loss: 0.5627, Acc: 0.7680, Val Loss: 1.0310, Val Acc: 0.5847\n"
          ]
        },
        {
          "output_type": "stream",
          "name": "stderr",
          "text": [
            "Epoch [8/25] - Training: 100%|██████████| 181/181 [00:29<00:00,  6.23it/s, loss=0.3663, acc=79.20%]\n",
            "Epoch [8/25] - Validation: 100%|██████████| 26/26 [00:04<00:00,  5.56it/s, val_loss=0.7037]\n"
          ]
        },
        {
          "output_type": "stream",
          "name": "stdout",
          "text": [
            "Epoch [8/25], Loss: 0.5152, Acc: 0.7920, Val Loss: 1.1505, Val Acc: 0.6138\n"
          ]
        },
        {
          "output_type": "stream",
          "name": "stderr",
          "text": [
            "Epoch [9/25] - Training: 100%|██████████| 181/181 [00:29<00:00,  6.21it/s, loss=0.4324, acc=83.09%]\n",
            "Epoch [9/25] - Validation: 100%|██████████| 26/26 [00:03<00:00,  7.45it/s, val_loss=0.4775]\n"
          ]
        },
        {
          "output_type": "stream",
          "name": "stdout",
          "text": [
            "Epoch [9/25], Loss: 0.4408, Acc: 0.8309, Val Loss: 1.0839, Val Acc: 0.6235\n"
          ]
        },
        {
          "output_type": "stream",
          "name": "stderr",
          "text": [
            "Epoch [10/25] - Training: 100%|██████████| 181/181 [00:28<00:00,  6.26it/s, loss=0.4135, acc=86.82%]\n",
            "Epoch [10/25] - Validation: 100%|██████████| 26/26 [00:04<00:00,  6.39it/s, val_loss=0.3350]\n"
          ]
        },
        {
          "output_type": "stream",
          "name": "stdout",
          "text": [
            "Epoch [10/25], Loss: 0.3510, Acc: 0.8682, Val Loss: 1.1378, Val Acc: 0.5908\n"
          ]
        },
        {
          "output_type": "stream",
          "name": "stderr",
          "text": [
            "Epoch [11/25] - Training: 100%|██████████| 181/181 [00:29<00:00,  6.11it/s, loss=0.1877, acc=88.80%]\n",
            "Epoch [11/25] - Validation: 100%|██████████| 26/26 [00:03<00:00,  7.44it/s, val_loss=0.2959]\n"
          ]
        },
        {
          "output_type": "stream",
          "name": "stdout",
          "text": [
            "Epoch [11/25], Loss: 0.3104, Acc: 0.8880, Val Loss: 1.1557, Val Acc: 0.5775\n"
          ]
        },
        {
          "output_type": "stream",
          "name": "stderr",
          "text": [
            "Epoch [12/25] - Training: 100%|██████████| 181/181 [00:28<00:00,  6.35it/s, loss=0.2616, acc=90.26%]\n",
            "Epoch [12/25] - Validation: 100%|██████████| 26/26 [00:03<00:00,  7.20it/s, val_loss=0.5407]\n"
          ]
        },
        {
          "output_type": "stream",
          "name": "stdout",
          "text": [
            "Epoch [12/25], Loss: 0.2748, Acc: 0.9026, Val Loss: 1.1988, Val Acc: 0.5993\n"
          ]
        },
        {
          "output_type": "stream",
          "name": "stderr",
          "text": [
            "Epoch [13/25] - Training: 100%|██████████| 181/181 [00:29<00:00,  6.22it/s, loss=0.0920, acc=92.38%]\n",
            "Epoch [13/25] - Validation: 100%|██████████| 26/26 [00:04<00:00,  6.19it/s, val_loss=0.2814]\n"
          ]
        },
        {
          "output_type": "stream",
          "name": "stdout",
          "text": [
            "Epoch [13/25], Loss: 0.2227, Acc: 0.9238, Val Loss: 1.3484, Val Acc: 0.5484\n"
          ]
        },
        {
          "output_type": "stream",
          "name": "stderr",
          "text": [
            "Epoch [14/25] - Training: 100%|██████████| 181/181 [00:28<00:00,  6.37it/s, loss=0.4453, acc=92.90%]\n",
            "Epoch [14/25] - Validation: 100%|██████████| 26/26 [00:03<00:00,  7.56it/s, val_loss=0.5595]\n"
          ]
        },
        {
          "output_type": "stream",
          "name": "stdout",
          "text": [
            "Epoch [14/25], Loss: 0.1991, Acc: 0.9290, Val Loss: 1.3869, Val Acc: 0.5533\n"
          ]
        },
        {
          "output_type": "stream",
          "name": "stderr",
          "text": [
            "Epoch [15/25] - Training: 100%|██████████| 181/181 [00:28<00:00,  6.35it/s, loss=0.0958, acc=94.30%]\n",
            "Epoch [15/25] - Validation: 100%|██████████| 26/26 [00:03<00:00,  6.76it/s, val_loss=0.2249]\n"
          ]
        },
        {
          "output_type": "stream",
          "name": "stdout",
          "text": [
            "Epoch [15/25], Loss: 0.1740, Acc: 0.9430, Val Loss: 1.4781, Val Acc: 0.5872\n"
          ]
        },
        {
          "output_type": "stream",
          "name": "stderr",
          "text": [
            "Epoch [16/25] - Training: 100%|██████████| 181/181 [00:30<00:00,  5.87it/s, loss=0.4012, acc=94.07%]\n",
            "Epoch [16/25] - Validation: 100%|██████████| 26/26 [00:03<00:00,  7.90it/s, val_loss=1.1813]\n"
          ]
        },
        {
          "output_type": "stream",
          "name": "stdout",
          "text": [
            "Epoch [16/25], Loss: 0.1624, Acc: 0.9407, Val Loss: 1.4325, Val Acc: 0.5787\n"
          ]
        },
        {
          "output_type": "stream",
          "name": "stderr",
          "text": [
            "Epoch [17/25] - Training: 100%|██████████| 181/181 [00:29<00:00,  6.12it/s, loss=0.1171, acc=95.99%]\n",
            "Epoch [17/25] - Validation: 100%|██████████| 26/26 [00:03<00:00,  7.46it/s, val_loss=0.4100]\n"
          ]
        },
        {
          "output_type": "stream",
          "name": "stdout",
          "text": [
            "Epoch [17/25], Loss: 0.1252, Acc: 0.9599, Val Loss: 1.4345, Val Acc: 0.5581\n"
          ]
        },
        {
          "output_type": "stream",
          "name": "stderr",
          "text": [
            "Epoch [18/25] - Training: 100%|██████████| 181/181 [00:29<00:00,  6.18it/s, loss=0.0425, acc=96.65%]\n",
            "Epoch [18/25] - Validation: 100%|██████████| 26/26 [00:03<00:00,  7.12it/s, val_loss=0.4648]\n"
          ]
        },
        {
          "output_type": "stream",
          "name": "stdout",
          "text": [
            "Epoch [18/25], Loss: 0.0989, Acc: 0.9665, Val Loss: 1.5256, Val Acc: 0.5835\n"
          ]
        },
        {
          "output_type": "stream",
          "name": "stderr",
          "text": [
            "Epoch [19/25] - Training: 100%|██████████| 181/181 [00:28<00:00,  6.39it/s, loss=0.1297, acc=97.34%]\n",
            "Epoch [19/25] - Validation: 100%|██████████| 26/26 [00:03<00:00,  7.79it/s, val_loss=0.5651]\n"
          ]
        },
        {
          "output_type": "stream",
          "name": "stdout",
          "text": [
            "Epoch [19/25], Loss: 0.0843, Acc: 0.9734, Val Loss: 1.6319, Val Acc: 0.5884\n"
          ]
        },
        {
          "output_type": "stream",
          "name": "stderr",
          "text": [
            "Epoch [20/25] - Training: 100%|██████████| 181/181 [00:29<00:00,  6.11it/s, loss=0.2981, acc=96.98%]\n",
            "Epoch [20/25] - Validation: 100%|██████████| 26/26 [00:04<00:00,  5.39it/s, val_loss=0.6571]\n"
          ]
        },
        {
          "output_type": "stream",
          "name": "stdout",
          "text": [
            "Epoch [20/25], Loss: 0.0822, Acc: 0.9698, Val Loss: 1.6555, Val Acc: 0.5835\n"
          ]
        },
        {
          "output_type": "stream",
          "name": "stderr",
          "text": [
            "Epoch [21/25] - Training: 100%|██████████| 181/181 [00:28<00:00,  6.37it/s, loss=0.1611, acc=96.01%]\n",
            "Epoch [21/25] - Validation: 100%|██████████| 26/26 [00:03<00:00,  7.87it/s, val_loss=0.5402]\n"
          ]
        },
        {
          "output_type": "stream",
          "name": "stdout",
          "text": [
            "Epoch [21/25], Loss: 0.1031, Acc: 0.9601, Val Loss: 1.7920, Val Acc: 0.5969\n"
          ]
        },
        {
          "output_type": "stream",
          "name": "stderr",
          "text": [
            "Epoch [22/25] - Training: 100%|██████████| 181/181 [00:28<00:00,  6.33it/s, loss=0.0420, acc=97.08%]\n",
            "Epoch [22/25] - Validation: 100%|██████████| 26/26 [00:03<00:00,  7.21it/s, val_loss=0.6990]\n"
          ]
        },
        {
          "output_type": "stream",
          "name": "stdout",
          "text": [
            "Epoch [22/25], Loss: 0.0861, Acc: 0.9708, Val Loss: 1.6885, Val Acc: 0.6017\n"
          ]
        },
        {
          "output_type": "stream",
          "name": "stderr",
          "text": [
            "Epoch [23/25] - Training: 100%|██████████| 181/181 [00:29<00:00,  6.17it/s, loss=0.1253, acc=96.86%]\n",
            "Epoch [23/25] - Validation: 100%|██████████| 26/26 [00:03<00:00,  7.05it/s, val_loss=0.8042]\n"
          ]
        },
        {
          "output_type": "stream",
          "name": "stdout",
          "text": [
            "Epoch [23/25], Loss: 0.0891, Acc: 0.9686, Val Loss: 1.6355, Val Acc: 0.6005\n"
          ]
        },
        {
          "output_type": "stream",
          "name": "stderr",
          "text": [
            "Epoch [24/25] - Training: 100%|██████████| 181/181 [00:28<00:00,  6.31it/s, loss=0.0186, acc=97.37%]\n",
            "Epoch [24/25] - Validation: 100%|██████████| 26/26 [00:03<00:00,  8.02it/s, val_loss=0.2677]\n"
          ]
        },
        {
          "output_type": "stream",
          "name": "stdout",
          "text": [
            "Epoch [24/25], Loss: 0.0720, Acc: 0.9737, Val Loss: 1.6846, Val Acc: 0.6102\n"
          ]
        },
        {
          "output_type": "stream",
          "name": "stderr",
          "text": [
            "Epoch [25/25] - Training: 100%|██████████| 181/181 [00:28<00:00,  6.36it/s, loss=0.1033, acc=98.15%]\n",
            "Epoch [25/25] - Validation: 100%|██████████| 26/26 [00:04<00:00,  5.37it/s, val_loss=0.4823]"
          ]
        },
        {
          "output_type": "stream",
          "name": "stdout",
          "text": [
            "Epoch [25/25], Loss: 0.0615, Acc: 0.9815, Val Loss: 1.7009, Val Acc: 0.5993\n"
          ]
        },
        {
          "output_type": "stream",
          "name": "stderr",
          "text": [
            "\n"
          ]
        }
      ]
    },
    {
      "cell_type": "markdown",
      "source": [],
      "metadata": {
        "id": "jyNLNdQU2R8R"
      }
    },
    {
      "cell_type": "code",
      "source": [
        "# Vẽ biểu đồ\n",
        "plt.figure(figsize=(12, 5))\n",
        "\n",
        "# Biểu đồ Loss\n",
        "plt.subplot(1, 2, 1)\n",
        "plt.plot(range(1, num_epochs + 1), train_losses, label='Train Loss', color='blue')\n",
        "plt.plot(range(1, num_epochs + 1), val_losses, label='Validation Loss', color='orange')\n",
        "plt.xlabel('Epoch')\n",
        "plt.ylabel('Loss')\n",
        "plt.title('Training and Validation Loss')\n",
        "plt.legend()\n",
        "plt.grid(True)\n",
        "\n",
        "# Biểu đồ Accuracy\n",
        "plt.subplot(1, 2, 2)\n",
        "plt.plot(range(1, num_epochs + 1), train_accs, label='Train Accuracy', color='blue')\n",
        "plt.plot(range(1, num_epochs + 1), val_accs, label='Validation Accuracy', color='orange')\n",
        "plt.xlabel('Epoch')\n",
        "plt.ylabel('Accuracy')\n",
        "plt.title('Training and Validation Accuracy')\n",
        "plt.legend()\n",
        "plt.grid(True)\n",
        "\n",
        "plt.tight_layout()\n",
        "plt.show()"
      ],
      "metadata": {
        "colab": {
          "base_uri": "https://localhost:8080/",
          "height": 507
        },
        "id": "6ez5jaS-0ALW",
        "outputId": "52915f7f-7b1b-4513-b8a8-32b8d6836448"
      },
      "execution_count": null,
      "outputs": [
        {
          "output_type": "display_data",
          "data": {
            "text/plain": [
              "<Figure size 1200x500 with 2 Axes>"
            ],
            "image/png": "[encoded data removed]"
          },
          "metadata": {}
        }
      ]
    }
  ]
}