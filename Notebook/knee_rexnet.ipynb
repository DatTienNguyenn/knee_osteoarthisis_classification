{
  "nbformat": 4,
  "nbformat_minor": 0,
  "metadata": {
    "colab": {
      "provenance": [],
      "gpuType": "T4"
    },
    "kernelspec": {
      "name": "python3",
      "display_name": "Python 3"
    },
    "language_info": {
      "name": "python"
    },
    "accelerator": "GPU"
  },
  "cells": [
    {
      "cell_type": "code",
      "execution_count": null,
      "metadata": {
        "colab": {
          "base_uri": "https://localhost:8080/"
        },
        "id": "JzwaoNZdKpc4",
        "outputId": "c54a4f92-4082-4520-892b-c15ff9dc055a"
      },
      "outputs": [
        {
          "output_type": "stream",
          "name": "stdout",
          "text": [
            "Collecting torchmetrics\n",
            "  Downloading torchmetrics-1.6.2-py3-none-any.whl.metadata (20 kB)\n",
            "Requirement already satisfied: numpy>1.20.0 in /usr/local/lib/python3.11/dist-packages (from torchmetrics) (1.26.4)\n",
            "Requirement already satisfied: packaging>17.1 in /usr/local/lib/python3.11/dist-packages (from torchmetrics) (24.2)\n",
            "Requirement already satisfied: torch>=2.0.0 in /usr/local/lib/python3.11/dist-packages (from torchmetrics) (2.5.1+cu124)\n",
            "Collecting lightning-utilities>=0.8.0 (from torchmetrics)\n",
            "  Downloading lightning_utilities-0.14.0-py3-none-any.whl.metadata (5.6 kB)\n",
            "Requirement already satisfied: setuptools in /usr/local/lib/python3.11/dist-packages (from lightning-utilities>=0.8.0->torchmetrics) (75.1.0)\n",
            "Requirement already satisfied: typing_extensions in /usr/local/lib/python3.11/dist-packages (from lightning-utilities>=0.8.0->torchmetrics) (4.12.2)\n",
            "Requirement already satisfied: filelock in /usr/local/lib/python3.11/dist-packages (from torch>=2.0.0->torchmetrics) (3.17.0)\n",
            "Requirement already satisfied: networkx in /usr/local/lib/python3.11/dist-packages (from torch>=2.0.0->torchmetrics) (3.4.2)\n",
            "Requirement already satisfied: jinja2 in /usr/local/lib/python3.11/dist-packages (from torch>=2.0.0->torchmetrics) (3.1.5)\n",
            "Requirement already satisfied: fsspec in /usr/local/lib/python3.11/dist-packages (from torch>=2.0.0->torchmetrics) (2024.10.0)\n",
            "Collecting nvidia-cuda-nvrtc-cu12==12.4.127 (from torch>=2.0.0->torchmetrics)\n",
            "  Downloading nvidia_cuda_nvrtc_cu12-12.4.127-py3-none-manylinux2014_x86_64.whl.metadata (1.5 kB)\n",
            "Collecting nvidia-cuda-runtime-cu12==12.4.127 (from torch>=2.0.0->torchmetrics)\n",
            "  Downloading nvidia_cuda_runtime_cu12-12.4.127-py3-none-manylinux2014_x86_64.whl.metadata (1.5 kB)\n",
            "Collecting nvidia-cuda-cupti-cu12==12.4.127 (from torch>=2.0.0->torchmetrics)\n",
            "  Downloading nvidia_cuda_cupti_cu12-12.4.127-py3-none-manylinux2014_x86_64.whl.metadata (1.6 kB)\n",
            "Collecting nvidia-cudnn-cu12==9.1.0.70 (from torch>=2.0.0->torchmetrics)\n",
            "  Downloading nvidia_cudnn_cu12-9.1.0.70-py3-none-manylinux2014_x86_64.whl.metadata (1.6 kB)\n",
            "Collecting nvidia-cublas-cu12==12.4.5.8 (from torch>=2.0.0->torchmetrics)\n",
            "  Downloading nvidia_cublas_cu12-12.4.5.8-py3-none-manylinux2014_x86_64.whl.metadata (1.5 kB)\n",
            "Collecting nvidia-cufft-cu12==11.2.1.3 (from torch>=2.0.0->torchmetrics)\n",
            "  Downloading nvidia_cufft_cu12-11.2.1.3-py3-none-manylinux2014_x86_64.whl.metadata (1.5 kB)\n",
            "Collecting nvidia-curand-cu12==10.3.5.147 (from torch>=2.0.0->torchmetrics)\n",
            "  Downloading nvidia_curand_cu12-10.3.5.147-py3-none-manylinux2014_x86_64.whl.metadata (1.5 kB)\n",
            "Collecting nvidia-cusolver-cu12==11.6.1.9 (from torch>=2.0.0->torchmetrics)\n",
            "  Downloading nvidia_cusolver_cu12-11.6.1.9-py3-none-manylinux2014_x86_64.whl.metadata (1.6 kB)\n",
            "Collecting nvidia-cusparse-cu12==12.3.1.170 (from torch>=2.0.0->torchmetrics)\n",
            "  Downloading nvidia_cusparse_cu12-12.3.1.170-py3-none-manylinux2014_x86_64.whl.metadata (1.6 kB)\n",
            "Requirement already satisfied: nvidia-nccl-cu12==2.21.5 in /usr/local/lib/python3.11/dist-packages (from torch>=2.0.0->torchmetrics) (2.21.5)\n",
            "Requirement already satisfied: nvidia-nvtx-cu12==12.4.127 in /usr/local/lib/python3.11/dist-packages (from torch>=2.0.0->torchmetrics) (12.4.127)\n",
            "Collecting nvidia-nvjitlink-cu12==12.4.127 (from torch>=2.0.0->torchmetrics)\n",
            "  Downloading nvidia_nvjitlink_cu12-12.4.127-py3-none-manylinux2014_x86_64.whl.metadata (1.5 kB)\n",
            "Requirement already satisfied: triton==3.1.0 in /usr/local/lib/python3.11/dist-packages (from torch>=2.0.0->torchmetrics) (3.1.0)\n",
            "Requirement already satisfied: sympy==1.13.1 in /usr/local/lib/python3.11/dist-packages (from torch>=2.0.0->torchmetrics) (1.13.1)\n",
            "Requirement already satisfied: mpmath<1.4,>=1.1.0 in /usr/local/lib/python3.11/dist-packages (from sympy==1.13.1->torch>=2.0.0->torchmetrics) (1.3.0)\n",
            "Requirement already satisfied: MarkupSafe>=2.0 in /usr/local/lib/python3.11/dist-packages (from jinja2->torch>=2.0.0->torchmetrics) (3.0.2)\n",
            "Downloading torchmetrics-1.6.2-py3-none-any.whl (931 kB)\n",
            "\u001b[2K   \u001b[90m━━━━━━━━━━━━━━━━━━━━━━━━━━━━━━━━━━━━━━━━\u001b[0m \u001b[32m931.6/931.6 kB\u001b[0m \u001b[31m21.5 MB/s\u001b[0m eta \u001b[36m0:00:00\u001b[0m\n",
            "\u001b[?25hDownloading lightning_utilities-0.14.0-py3-none-any.whl (28 kB)\n",
            "Downloading nvidia_cublas_cu12-12.4.5.8-py3-none-manylinux2014_x86_64.whl (363.4 MB)\n",
            "\u001b[2K   \u001b[90m━━━━━━━━━━━━━━━━━━━━━━━━━━━━━━━━━━━━━━━━\u001b[0m \u001b[32m363.4/363.4 MB\u001b[0m \u001b[31m4.4 MB/s\u001b[0m eta \u001b[36m0:00:00\u001b[0m\n",
            "\u001b[?25hDownloading nvidia_cuda_cupti_cu12-12.4.127-py3-none-manylinux2014_x86_64.whl (13.8 MB)\n",
            "\u001b[2K   \u001b[90m━━━━━━━━━━━━━━━━━━━━━━━━━━━━━━━━━━━━━━━━\u001b[0m \u001b[32m13.8/13.8 MB\u001b[0m \u001b[31m82.5 MB/s\u001b[0m eta \u001b[36m0:00:00\u001b[0m\n",
            "\u001b[?25hDownloading nvidia_cuda_nvrtc_cu12-12.4.127-py3-none-manylinux2014_x86_64.whl (24.6 MB)\n",
            "\u001b[2K   \u001b[90m━━━━━━━━━━━━━━━━━━━━━━━━━━━━━━━━━━━━━━━━\u001b[0m \u001b[32m24.6/24.6 MB\u001b[0m \u001b[31m62.5 MB/s\u001b[0m eta \u001b[36m0:00:00\u001b[0m\n",
            "\u001b[?25hDownloading nvidia_cuda_runtime_cu12-12.4.127-py3-none-manylinux2014_x86_64.whl (883 kB)\n",
            "\u001b[2K   \u001b[90m━━━━━━━━━━━━━━━━━━━━━━━━━━━━━━━━━━━━━━━━\u001b[0m \u001b[32m883.7/883.7 kB\u001b[0m \u001b[31m49.2 MB/s\u001b[0m eta \u001b[36m0:00:00\u001b[0m\n",
            "\u001b[?25hDownloading nvidia_cudnn_cu12-9.1.0.70-py3-none-manylinux2014_x86_64.whl (664.8 MB)\n",
            "\u001b[2K   \u001b[90m━━━━━━━━━━━━━━━━━━━━━━━━━━━━━━━━━━━━━━━━\u001b[0m \u001b[32m664.8/664.8 MB\u001b[0m \u001b[31m854.0 kB/s\u001b[0m eta \u001b[36m0:00:00\u001b[0m\n",
            "\u001b[?25hDownloading nvidia_cufft_cu12-11.2.1.3-py3-none-manylinux2014_x86_64.whl (211.5 MB)\n",
            "\u001b[2K   \u001b[90m━━━━━━━━━━━━━━━━━━━━━━━━━━━━━━━━━━━━━━━━\u001b[0m \u001b[32m211.5/211.5 MB\u001b[0m \u001b[31m4.6 MB/s\u001b[0m eta \u001b[36m0:00:00\u001b[0m\n",
            "\u001b[?25hDownloading nvidia_curand_cu12-10.3.5.147-py3-none-manylinux2014_x86_64.whl (56.3 MB)\n",
            "\u001b[2K   \u001b[90m━━━━━━━━━━━━━━━━━━━━━━━━━━━━━━━━━━━━━━━━\u001b[0m \u001b[32m56.3/56.3 MB\u001b[0m \u001b[31m10.1 MB/s\u001b[0m eta \u001b[36m0:00:00\u001b[0m\n",
            "\u001b[?25hDownloading nvidia_cusolver_cu12-11.6.1.9-py3-none-manylinux2014_x86_64.whl (127.9 MB)\n",
            "\u001b[2K   \u001b[90m━━━━━━━━━━━━━━━━━━━━━━━━━━━━━━━━━━━━━━━━\u001b[0m \u001b[32m127.9/127.9 MB\u001b[0m \u001b[31m8.2 MB/s\u001b[0m eta \u001b[36m0:00:00\u001b[0m\n",
            "\u001b[?25hDownloading nvidia_cusparse_cu12-12.3.1.170-py3-none-manylinux2014_x86_64.whl (207.5 MB)\n",
            "\u001b[2K   \u001b[90m━━━━━━━━━━━━━━━━━━━━━━━━━━━━━━━━━━━━━━━━\u001b[0m \u001b[32m207.5/207.5 MB\u001b[0m \u001b[31m6.1 MB/s\u001b[0m eta \u001b[36m0:00:00\u001b[0m\n",
            "\u001b[?25hDownloading nvidia_nvjitlink_cu12-12.4.127-py3-none-manylinux2014_x86_64.whl (21.1 MB)\n",
            "\u001b[2K   \u001b[90m━━━━━━━━━━━━━━━━━━━━━━━━━━━━━━━━━━━━━━━━\u001b[0m \u001b[32m21.1/21.1 MB\u001b[0m \u001b[31m96.5 MB/s\u001b[0m eta \u001b[36m0:00:00\u001b[0m\n",
            "\u001b[?25hInstalling collected packages: nvidia-nvjitlink-cu12, nvidia-curand-cu12, nvidia-cufft-cu12, nvidia-cuda-runtime-cu12, nvidia-cuda-nvrtc-cu12, nvidia-cuda-cupti-cu12, nvidia-cublas-cu12, lightning-utilities, nvidia-cusparse-cu12, nvidia-cudnn-cu12, nvidia-cusolver-cu12, torchmetrics\n",
            "  Attempting uninstall: nvidia-nvjitlink-cu12\n",
            "    Found existing installation: nvidia-nvjitlink-cu12 12.5.82\n",
            "    Uninstalling nvidia-nvjitlink-cu12-12.5.82:\n",
            "      Successfully uninstalled nvidia-nvjitlink-cu12-12.5.82\n",
            "  Attempting uninstall: nvidia-curand-cu12\n",
            "    Found existing installation: nvidia-curand-cu12 10.3.6.82\n",
            "    Uninstalling nvidia-curand-cu12-10.3.6.82:\n",
            "      Successfully uninstalled nvidia-curand-cu12-10.3.6.82\n",
            "  Attempting uninstall: nvidia-cufft-cu12\n",
            "    Found existing installation: nvidia-cufft-cu12 11.2.3.61\n",
            "    Uninstalling nvidia-cufft-cu12-11.2.3.61:\n",
            "      Successfully uninstalled nvidia-cufft-cu12-11.2.3.61\n",
            "  Attempting uninstall: nvidia-cuda-runtime-cu12\n",
            "    Found existing installation: nvidia-cuda-runtime-cu12 12.5.82\n",
            "    Uninstalling nvidia-cuda-runtime-cu12-12.5.82:\n",
            "      Successfully uninstalled nvidia-cuda-runtime-cu12-12.5.82\n",
            "  Attempting uninstall: nvidia-cuda-nvrtc-cu12\n",
            "    Found existing installation: nvidia-cuda-nvrtc-cu12 12.5.82\n",
            "    Uninstalling nvidia-cuda-nvrtc-cu12-12.5.82:\n",
            "      Successfully uninstalled nvidia-cuda-nvrtc-cu12-12.5.82\n",
            "  Attempting uninstall: nvidia-cuda-cupti-cu12\n",
            "    Found existing installation: nvidia-cuda-cupti-cu12 12.5.82\n",
            "    Uninstalling nvidia-cuda-cupti-cu12-12.5.82:\n",
            "      Successfully uninstalled nvidia-cuda-cupti-cu12-12.5.82\n",
            "  Attempting uninstall: nvidia-cublas-cu12\n",
            "    Found existing installation: nvidia-cublas-cu12 12.5.3.2\n",
            "    Uninstalling nvidia-cublas-cu12-12.5.3.2:\n",
            "      Successfully uninstalled nvidia-cublas-cu12-12.5.3.2\n",
            "  Attempting uninstall: nvidia-cusparse-cu12\n",
            "    Found existing installation: nvidia-cusparse-cu12 12.5.1.3\n",
            "    Uninstalling nvidia-cusparse-cu12-12.5.1.3:\n",
            "      Successfully uninstalled nvidia-cusparse-cu12-12.5.1.3\n",
            "  Attempting uninstall: nvidia-cudnn-cu12\n",
            "    Found existing installation: nvidia-cudnn-cu12 9.3.0.75\n",
            "    Uninstalling nvidia-cudnn-cu12-9.3.0.75:\n",
            "      Successfully uninstalled nvidia-cudnn-cu12-9.3.0.75\n",
            "  Attempting uninstall: nvidia-cusolver-cu12\n",
            "    Found existing installation: nvidia-cusolver-cu12 11.6.3.83\n",
            "    Uninstalling nvidia-cusolver-cu12-11.6.3.83:\n",
            "      Successfully uninstalled nvidia-cusolver-cu12-11.6.3.83\n",
            "Successfully installed lightning-utilities-0.14.0 nvidia-cublas-cu12-12.4.5.8 nvidia-cuda-cupti-cu12-12.4.127 nvidia-cuda-nvrtc-cu12-12.4.127 nvidia-cuda-runtime-cu12-12.4.127 nvidia-cudnn-cu12-9.1.0.70 nvidia-cufft-cu12-11.2.1.3 nvidia-curand-cu12-10.3.5.147 nvidia-cusolver-cu12-11.6.1.9 nvidia-cusparse-cu12-12.3.1.170 nvidia-nvjitlink-cu12-12.4.127 torchmetrics-1.6.2\n",
            "Requirement already satisfied: timm in /usr/local/lib/python3.11/dist-packages (1.0.15)\n",
            "Requirement already satisfied: torch in /usr/local/lib/python3.11/dist-packages (from timm) (2.5.1+cu124)\n",
            "Requirement already satisfied: torchvision in /usr/local/lib/python3.11/dist-packages (from timm) (0.20.1+cu124)\n",
            "Requirement already satisfied: pyyaml in /usr/local/lib/python3.11/dist-packages (from timm) (6.0.2)\n",
            "Requirement already satisfied: huggingface_hub in /usr/local/lib/python3.11/dist-packages (from timm) (0.28.1)\n",
            "Requirement already satisfied: safetensors in /usr/local/lib/python3.11/dist-packages (from timm) (0.5.3)\n",
            "Requirement already satisfied: filelock in /usr/local/lib/python3.11/dist-packages (from huggingface_hub->timm) (3.17.0)\n",
            "Requirement already satisfied: fsspec>=2023.5.0 in /usr/local/lib/python3.11/dist-packages (from huggingface_hub->timm) (2024.10.0)\n",
            "Requirement already satisfied: packaging>=20.9 in /usr/local/lib/python3.11/dist-packages (from huggingface_hub->timm) (24.2)\n",
            "Requirement already satisfied: requests in /usr/local/lib/python3.11/dist-packages (from huggingface_hub->timm) (2.32.3)\n",
            "Requirement already satisfied: tqdm>=4.42.1 in /usr/local/lib/python3.11/dist-packages (from huggingface_hub->timm) (4.67.1)\n",
            "Requirement already satisfied: typing-extensions>=3.7.4.3 in /usr/local/lib/python3.11/dist-packages (from huggingface_hub->timm) (4.12.2)\n",
            "Requirement already satisfied: networkx in /usr/local/lib/python3.11/dist-packages (from torch->timm) (3.4.2)\n",
            "Requirement already satisfied: jinja2 in /usr/local/lib/python3.11/dist-packages (from torch->timm) (3.1.5)\n",
            "Requirement already satisfied: nvidia-cuda-nvrtc-cu12==12.4.127 in /usr/local/lib/python3.11/dist-packages (from torch->timm) (12.4.127)\n",
            "Requirement already satisfied: nvidia-cuda-runtime-cu12==12.4.127 in /usr/local/lib/python3.11/dist-packages (from torch->timm) (12.4.127)\n",
            "Requirement already satisfied: nvidia-cuda-cupti-cu12==12.4.127 in /usr/local/lib/python3.11/dist-packages (from torch->timm) (12.4.127)\n",
            "Requirement already satisfied: nvidia-cudnn-cu12==9.1.0.70 in /usr/local/lib/python3.11/dist-packages (from torch->timm) (9.1.0.70)\n",
            "Requirement already satisfied: nvidia-cublas-cu12==12.4.5.8 in /usr/local/lib/python3.11/dist-packages (from torch->timm) (12.4.5.8)\n",
            "Requirement already satisfied: nvidia-cufft-cu12==11.2.1.3 in /usr/local/lib/python3.11/dist-packages (from torch->timm) (11.2.1.3)\n",
            "Requirement already satisfied: nvidia-curand-cu12==10.3.5.147 in /usr/local/lib/python3.11/dist-packages (from torch->timm) (10.3.5.147)\n",
            "Requirement already satisfied: nvidia-cusolver-cu12==11.6.1.9 in /usr/local/lib/python3.11/dist-packages (from torch->timm) (11.6.1.9)\n",
            "Requirement already satisfied: nvidia-cusparse-cu12==12.3.1.170 in /usr/local/lib/python3.11/dist-packages (from torch->timm) (12.3.1.170)\n",
            "Requirement already satisfied: nvidia-nccl-cu12==2.21.5 in /usr/local/lib/python3.11/dist-packages (from torch->timm) (2.21.5)\n",
            "Requirement already satisfied: nvidia-nvtx-cu12==12.4.127 in /usr/local/lib/python3.11/dist-packages (from torch->timm) (12.4.127)\n",
            "Requirement already satisfied: nvidia-nvjitlink-cu12==12.4.127 in /usr/local/lib/python3.11/dist-packages (from torch->timm) (12.4.127)\n",
            "Requirement already satisfied: triton==3.1.0 in /usr/local/lib/python3.11/dist-packages (from torch->timm) (3.1.0)\n",
            "Requirement already satisfied: sympy==1.13.1 in /usr/local/lib/python3.11/dist-packages (from torch->timm) (1.13.1)\n",
            "Requirement already satisfied: mpmath<1.4,>=1.1.0 in /usr/local/lib/python3.11/dist-packages (from sympy==1.13.1->torch->timm) (1.3.0)\n",
            "Requirement already satisfied: numpy in /usr/local/lib/python3.11/dist-packages (from torchvision->timm) (1.26.4)\n",
            "Requirement already satisfied: pillow!=8.3.*,>=5.3.0 in /usr/local/lib/python3.11/dist-packages (from torchvision->timm) (11.1.0)\n",
            "Requirement already satisfied: MarkupSafe>=2.0 in /usr/local/lib/python3.11/dist-packages (from jinja2->torch->timm) (3.0.2)\n",
            "Requirement already satisfied: charset-normalizer<4,>=2 in /usr/local/lib/python3.11/dist-packages (from requests->huggingface_hub->timm) (3.4.1)\n",
            "Requirement already satisfied: idna<4,>=2.5 in /usr/local/lib/python3.11/dist-packages (from requests->huggingface_hub->timm) (3.10)\n",
            "Requirement already satisfied: urllib3<3,>=1.21.1 in /usr/local/lib/python3.11/dist-packages (from requests->huggingface_hub->timm) (2.3.0)\n",
            "Requirement already satisfied: certifi>=2017.4.17 in /usr/local/lib/python3.11/dist-packages (from requests->huggingface_hub->timm) (2025.1.31)\n"
          ]
        }
      ],
      "source": [
        "!pip install torchmetrics\n",
        "!pip install timm\n",
        "import os\n",
        "import torch\n",
        "import torchmetrics\n",
        "import timm\n",
        "from tqdm import tqdm\n",
        "from torch.utils.data import DataLoader\n",
        "from torchvision import transforms\n",
        "from google.colab import drive\n",
        "from PIL import Image\n"
      ]
    },
    {
      "cell_type": "code",
      "source": [
        "device = torch.device(\"cuda\" if torch.cuda.is_available() else \"cpu\")\n",
        "print(f\"Using device: {device}\")"
      ],
      "metadata": {
        "colab": {
          "base_uri": "https://localhost:8080/"
        },
        "id": "3pdPIXYnMXyB",
        "outputId": "8b12bf7b-ef24-49f8-9442-f327949a0d2c"
      },
      "execution_count": null,
      "outputs": [
        {
          "output_type": "stream",
          "name": "stdout",
          "text": [
            "Using device: cuda\n"
          ]
        }
      ]
    },
    {
      "cell_type": "code",
      "source": [
        "\n",
        "# Mount Google Drive\n",
        "drive.mount('/content/drive')"
      ],
      "metadata": {
        "colab": {
          "base_uri": "https://localhost:8080/"
        },
        "id": "Blzz1EaCMK5s",
        "outputId": "ba243778-b8b5-43e1-8a25-f12104386f93"
      },
      "execution_count": null,
      "outputs": [
        {
          "output_type": "stream",
          "name": "stdout",
          "text": [
            "Mounted at /content/drive\n"
          ]
        }
      ]
    },
    {
      "cell_type": "code",
      "source": [
        "# Định nghĩa lớp (classes)\n",
        "classes = ['normal', 'osteopenia', 'osteoporosis']\n",
        "\n",
        "# Tiền xử lý ảnh X-ray\n",
        "def preprocess_xray(image):\n",
        "    image = image.convert('RGB')  # Đảm bảo 3 kênh\n",
        "    image = transforms.functional.adjust_contrast(image, contrast_factor=2.0)  # Tăng contrast\n",
        "    return image\n",
        "\n",
        "# Data augmentation và transform\n",
        "train_transforms = transforms.Compose([\n",
        "    preprocess_xray,\n",
        "    transforms.RandomRotation(20),\n",
        "    transforms.RandomHorizontalFlip(),\n",
        "    transforms.Resize((224, 224)),\n",
        "    transforms.ToTensor(),\n",
        "])\n",
        "\n",
        "val_transforms = transforms.Compose([\n",
        "    preprocess_xray,\n",
        "    transforms.Resize((224, 224)),\n",
        "    transforms.ToTensor(),\n",
        "])\n",
        "\n",
        "# Dataset\n",
        "from torchvision.datasets import ImageFolder\n",
        "train_dataset = ImageFolder('/content/drive/MyDrive/data/train/', transform=train_transforms)\n",
        "val_dataset = ImageFolder('/content/drive/MyDrive/data/valid/', transform=val_transforms)\n",
        "\n",
        "# DataLoader\n",
        "tr_dl = DataLoader(train_dataset, batch_size=32, shuffle=True, num_workers=2)\n",
        "val_dl = DataLoader(val_dataset, batch_size=32, shuffle=False, num_workers=2)\n",
        "\n",
        "# Kiểm tra dữ liệu\n",
        "print(f\"Train samples: {len(train_dataset)}\")\n",
        "print(f\"Validation samples: {len(val_dataset)}\")\n",
        "sample_batch = next(iter(tr_dl))\n",
        "print(f\"Sample batch shape (images, labels): {sample_batch[0].shape}, {sample_batch[1].shape}\")"
      ],
      "metadata": {
        "colab": {
          "base_uri": "https://localhost:8080/"
        },
        "id": "PTBXV4tXNIp2",
        "outputId": "5ae7914a-56ae-4ca5-8d71-dfb4235f9312"
      },
      "execution_count": null,
      "outputs": [
        {
          "output_type": "stream",
          "name": "stdout",
          "text": [
            "Train samples: 3780\n",
            "Validation samples: 1080\n",
            "Sample batch shape (images, labels): torch.Size([32, 3, 224, 224]), torch.Size([32])\n"
          ]
        }
      ]
    },
    {
      "cell_type": "code",
      "source": [
        "class TrainValidation:\n",
        "    def __init__(self, model_name, classes, tr_dl, val_dl, device, save_dir=\"saved_models\",\n",
        "                 save_prefix=\"model\", lr=3e-4, epochs=50, patience=5, threshold=0.01,\n",
        "                 dev_mode=False):\n",
        "        self.model_name = model_name\n",
        "        self.classes = classes\n",
        "        self.tr_dl = tr_dl\n",
        "        self.val_dl = val_dl\n",
        "        self.save_dir = save_dir\n",
        "        self.save_prefix = save_prefix\n",
        "        self.lr = lr\n",
        "        self.epochs = epochs\n",
        "        self.patience = patience\n",
        "        self.threshold = threshold\n",
        "        self.dev_mode = dev_mode\n",
        "        self.device = device\n",
        "        self.model = timm.create_model(model_name, pretrained=True, num_classes=len(classes)).to(self.device)\n",
        "        self.loss_fn = torch.nn.CrossEntropyLoss()\n",
        "        self.optimizer = torch.optim.Adam(self.model.parameters(), lr=lr)\n",
        "        self.f1_metric = torchmetrics.F1Score(task=\"multiclass\", num_classes=len(classes)).to(self.device)\n",
        "\n",
        "        os.makedirs(save_dir, exist_ok=True)\n",
        "\n",
        "        self.best_loss = float(\"inf\")\n",
        "        self.best_acc = 0\n",
        "        self.not_improved = 0\n",
        "\n",
        "        self.tr_losses, self.val_losses = [], []\n",
        "        self.tr_accs, self.val_accs = [], []\n",
        "        self.tr_f1s, self.val_f1s = [], []\n",
        "\n",
        "    @staticmethod\n",
        "    def to_device(batch, device):\n",
        "        ims, gts = batch\n",
        "        return ims.to(device), gts.to(device)\n",
        "\n",
        "    def train_epoch(self):\n",
        "        self.model.train()\n",
        "        train_loss, train_acc = 0.0, 0.0\n",
        "        self.f1_metric.reset()\n",
        "\n",
        "        for idx, batch in tqdm(enumerate(self.tr_dl), desc=\"Training\"):\n",
        "            if self.dev_mode and idx == 1: break\n",
        "            try:\n",
        "                ims, gts = TrainValidation.to_device(batch, device=self.device)\n",
        "                preds = self.model(ims)\n",
        "                loss = self.loss_fn(preds, gts)\n",
        "                self.optimizer.zero_grad()\n",
        "                loss.backward()\n",
        "                self.optimizer.step()\n",
        "                train_loss += loss.item()\n",
        "                train_acc += (torch.argmax(preds, dim=1) == gts).sum().item()\n",
        "                self.f1_metric.update(preds, gts)\n",
        "            except Exception as e:\n",
        "                print(f\"Error in training batch {idx}: {e}\")\n",
        "                break\n",
        "\n",
        "        train_loss /= len(self.tr_dl)\n",
        "        train_acc /= len(self.tr_dl.dataset)\n",
        "        train_f1 = self.f1_metric.compute().item()\n",
        "\n",
        "        self.tr_losses.append(train_loss)\n",
        "        self.tr_accs.append(train_acc)\n",
        "        self.tr_f1s.append(train_f1)\n",
        "\n",
        "        return train_loss, train_acc, train_f1\n",
        "\n",
        "    def validate_epoch(self):\n",
        "        self.model.eval()\n",
        "        val_loss, val_acc = 0.0, 0.0\n",
        "        self.f1_metric.reset()\n",
        "\n",
        "        with torch.no_grad():\n",
        "            for idx, batch in tqdm(enumerate(self.val_dl), desc=\"Validation\"):\n",
        "                if self.dev_mode and idx == 1: break\n",
        "                try:\n",
        "                    ims, gts = TrainValidation.to_device(batch, device=self.device)\n",
        "                    preds = self.model(ims)\n",
        "                    loss = self.loss_fn(preds, gts)\n",
        "                    val_loss += loss.item()\n",
        "                    val_acc += (torch.argmax(preds, dim=1) == gts).sum().item()\n",
        "                    self.f1_metric.update(preds, gts)\n",
        "                except Exception as e:\n",
        "                    print(f\"Error in validation batch {idx}: {e}\")\n",
        "                    break\n",
        "\n",
        "        val_loss /= len(self.val_dl)\n",
        "        val_acc /= len(self.val_dl.dataset)\n",
        "        val_f1 = self.f1_metric.compute().item()\n",
        "\n",
        "        self.val_losses.append(val_loss)\n",
        "        self.val_accs.append(val_acc)\n",
        "        self.val_f1s.append(val_f1)\n",
        "\n",
        "        return val_loss, val_acc, val_f1\n",
        "\n",
        "    def fine_tune(self, lr_fine=5e-4, stages_to_unfreeze=4):\n",
        "        print(\"Starting fine-tuning...\")\n",
        "        for param in self.model.parameters():\n",
        "            param.requires_grad = False\n",
        "        # rexnet_150 có submodule 'features' chứa các stage\n",
        "        # Mở khóa stages_to_unfreeze stage cuối của features\n",
        "        for param in self.model.get_submodule(\"features\")[-stages_to_unfreeze:].parameters():\n",
        "            param.requires_grad = True\n",
        "        self.optimizer = torch.optim.Adam(filter(lambda p: p.requires_grad, self.model.parameters()), lr=lr_fine)\n",
        "\n",
        "    def save_best_model(self, val_f1, val_loss):\n",
        "        if val_f1 > self.best_acc + self.threshold:\n",
        "            self.best_acc = val_f1\n",
        "            save_path = os.path.join(self.save_dir, f\"{self.save_prefix}_best_model.pth\")\n",
        "            torch.save(self.model.state_dict(), save_path)\n",
        "            print(f\"Best model saved with F1-Score: {self.best_acc:.3f}\")\n",
        "            self.not_improved = 0\n",
        "        else:\n",
        "            self.not_improved += 1\n",
        "            print(f\"No improvement for {self.not_improved} epoch(s).\")\n",
        "\n",
        "    def save_final_model(self):\n",
        "        save_path = os.path.join(self.save_dir, f\"{self.save_prefix}_final_model.pth\")\n",
        "        torch.save(self.model.state_dict(), save_path)\n",
        "        print(f\"Final model saved at: {save_path}\")\n",
        "\n",
        "    def verbose(self, epoch, metric1, metric2, metric3, process=\"train\"):\n",
        "        print(f\"{epoch + 1}-epoch {process} process is completed!\\n\")\n",
        "        print(f\"{epoch + 1}-epoch {process} loss          -> {metric1:.3f}\")\n",
        "        print(f\"{epoch + 1}-epoch {process} accuracy      -> {metric2:.3f}\")\n",
        "        print(f\"{epoch + 1}-epoch {process} f1-score      -> {metric3:.3f}\\n\")\n",
        "\n",
        "    def run(self):\n",
        "        print(\"Start training...\")\n",
        "        for epoch in range(self.epochs):\n",
        "            if self.dev_mode and epoch == 1: break\n",
        "            print(f\"\\nEpoch {epoch + 1}/{self.epochs}:\\n\")\n",
        "\n",
        "            train_loss, train_acc, train_f1 = self.train_epoch()\n",
        "            self.verbose(epoch, train_loss, train_acc, train_f1, process=\"train\")\n",
        "\n",
        "            val_loss, val_acc, val_f1 = self.validate_epoch()\n",
        "            self.verbose(epoch, val_loss, val_acc, val_f1, process=\"validation\")\n",
        "\n",
        "            self.save_best_model(val_f1, val_loss)\n",
        "\n",
        "            if self.not_improved >= self.patience:\n",
        "                print(\"Early stopping triggered.\")\n",
        "                break\n",
        "\n",
        "            # Fine-tuning sau 20 epoch nếu chưa dừng\n",
        "            if epoch == 19 and self.not_improved < self.patience:\n",
        "                self.fine_tune(lr_fine=5e-4, stages_to_unfreeze=4)\n",
        "\n",
        "        # Lưu model cuối cùng sau khi huấn luyện\n",
        "        self.save_final_model()"
      ],
      "metadata": {
        "id": "DEgfPswXNthu"
      },
      "execution_count": null,
      "outputs": []
    },
    {
      "cell_type": "code",
      "source": [
        "# Thiết lập tham số\n",
        "model_name = \"rexnet_150\"\n",
        "save_prefix = \"knee\"\n",
        "save_dir = \"saved_models\"\n",
        "device = torch.device(\"cuda\" if torch.cuda.is_available() else \"cpu\")\n",
        "\n",
        "# Khởi tạo trainer\n",
        "trainer = TrainValidation(model_name=model_name, device=device,\n",
        "                          save_prefix=save_prefix, classes=classes,\n",
        "                          patience=5, tr_dl=tr_dl, val_dl=val_dl, dev_mode=False)\n",
        "\n",
        "# Chạy huấn luyện\n",
        "trainer.run()"
      ],
      "metadata": {
        "colab": {
          "base_uri": "https://localhost:8080/"
        },
        "id": "Pe0ZKSw7N1RU",
        "outputId": "9cc52485-8bd6-4a6b-a289-a5958ad4de11"
      },
      "execution_count": null,
      "outputs": [
        {
          "output_type": "stream",
          "name": "stdout",
          "text": [
            "Start training...\n",
            "\n",
            "Epoch 1/50:\n",
            "\n"
          ]
        },
        {
          "output_type": "stream",
          "name": "stderr",
          "text": [
            "Training: 119it [00:31,  3.73it/s]"
          ]
        },
        {
          "output_type": "stream",
          "name": "stdout",
          "text": [
            "1-epoch train process is completed!\n",
            "\n",
            "1-epoch train loss          -> 1.438\n",
            "1-epoch train accuracy      -> 0.588\n",
            "1-epoch train f1-score      -> 0.588\n",
            "\n"
          ]
        },
        {
          "output_type": "stream",
          "name": "stderr",
          "text": [
            "\n",
            "Validation: 34it [00:04,  7.52it/s]\n"
          ]
        },
        {
          "output_type": "stream",
          "name": "stdout",
          "text": [
            "1-epoch validation process is completed!\n",
            "\n",
            "1-epoch validation loss          -> 1.068\n",
            "1-epoch validation accuracy      -> 0.592\n",
            "1-epoch validation f1-score      -> 0.592\n",
            "\n",
            "Best model saved with F1-Score: 0.592\n",
            "\n",
            "Epoch 2/50:\n",
            "\n"
          ]
        },
        {
          "output_type": "stream",
          "name": "stderr",
          "text": [
            "Training: 119it [00:30,  3.86it/s]"
          ]
        },
        {
          "output_type": "stream",
          "name": "stdout",
          "text": [
            "2-epoch train process is completed!\n",
            "\n",
            "2-epoch train loss          -> 0.924\n",
            "2-epoch train accuracy      -> 0.644\n",
            "2-epoch train f1-score      -> 0.644\n",
            "\n"
          ]
        },
        {
          "output_type": "stream",
          "name": "stderr",
          "text": [
            "\n",
            "Validation: 34it [00:05,  5.75it/s]\n"
          ]
        },
        {
          "output_type": "stream",
          "name": "stdout",
          "text": [
            "2-epoch validation process is completed!\n",
            "\n",
            "2-epoch validation loss          -> 0.881\n",
            "2-epoch validation accuracy      -> 0.636\n",
            "2-epoch validation f1-score      -> 0.636\n",
            "\n",
            "Best model saved with F1-Score: 0.636\n",
            "\n",
            "Epoch 3/50:\n",
            "\n"
          ]
        },
        {
          "output_type": "stream",
          "name": "stderr",
          "text": [
            "Training: 119it [00:29,  3.97it/s]"
          ]
        },
        {
          "output_type": "stream",
          "name": "stdout",
          "text": [
            "3-epoch train process is completed!\n",
            "\n",
            "3-epoch train loss          -> 0.745\n",
            "3-epoch train accuracy      -> 0.698\n",
            "3-epoch train f1-score      -> 0.698\n",
            "\n"
          ]
        },
        {
          "output_type": "stream",
          "name": "stderr",
          "text": [
            "\n",
            "Validation: 34it [00:04,  7.48it/s]\n"
          ]
        },
        {
          "output_type": "stream",
          "name": "stdout",
          "text": [
            "3-epoch validation process is completed!\n",
            "\n",
            "3-epoch validation loss          -> 0.728\n",
            "3-epoch validation accuracy      -> 0.679\n",
            "3-epoch validation f1-score      -> 0.679\n",
            "\n",
            "Best model saved with F1-Score: 0.679\n",
            "\n",
            "Epoch 4/50:\n",
            "\n"
          ]
        },
        {
          "output_type": "stream",
          "name": "stderr",
          "text": [
            "Training: 119it [00:31,  3.83it/s]"
          ]
        },
        {
          "output_type": "stream",
          "name": "stdout",
          "text": [
            "4-epoch train process is completed!\n",
            "\n",
            "4-epoch train loss          -> 0.655\n",
            "4-epoch train accuracy      -> 0.719\n",
            "4-epoch train f1-score      -> 0.719\n",
            "\n"
          ]
        },
        {
          "output_type": "stream",
          "name": "stderr",
          "text": [
            "\n",
            "Validation: 34it [00:06,  5.54it/s]"
          ]
        },
        {
          "output_type": "stream",
          "name": "stdout",
          "text": [
            "4-epoch validation process is completed!\n",
            "\n",
            "4-epoch validation loss          -> 0.785\n",
            "4-epoch validation accuracy      -> 0.677\n",
            "4-epoch validation f1-score      -> 0.677\n",
            "\n",
            "No improvement for 1 epoch(s).\n",
            "\n",
            "Epoch 5/50:\n",
            "\n"
          ]
        },
        {
          "output_type": "stream",
          "name": "stderr",
          "text": [
            "\n",
            "Training: 119it [00:30,  3.91it/s]"
          ]
        },
        {
          "output_type": "stream",
          "name": "stdout",
          "text": [
            "5-epoch train process is completed!\n",
            "\n",
            "5-epoch train loss          -> 0.574\n",
            "5-epoch train accuracy      -> 0.761\n",
            "5-epoch train f1-score      -> 0.761\n",
            "\n"
          ]
        },
        {
          "output_type": "stream",
          "name": "stderr",
          "text": [
            "\n",
            "Validation: 34it [00:05,  5.89it/s]\n"
          ]
        },
        {
          "output_type": "stream",
          "name": "stdout",
          "text": [
            "5-epoch validation process is completed!\n",
            "\n",
            "5-epoch validation loss          -> 0.714\n",
            "5-epoch validation accuracy      -> 0.707\n",
            "5-epoch validation f1-score      -> 0.707\n",
            "\n",
            "Best model saved with F1-Score: 0.707\n",
            "\n",
            "Epoch 6/50:\n",
            "\n"
          ]
        },
        {
          "output_type": "stream",
          "name": "stderr",
          "text": [
            "Training: 119it [00:30,  3.95it/s]"
          ]
        },
        {
          "output_type": "stream",
          "name": "stdout",
          "text": [
            "6-epoch train process is completed!\n",
            "\n",
            "6-epoch train loss          -> 0.532\n",
            "6-epoch train accuracy      -> 0.780\n",
            "6-epoch train f1-score      -> 0.780\n",
            "\n"
          ]
        },
        {
          "output_type": "stream",
          "name": "stderr",
          "text": [
            "\n",
            "Validation: 34it [00:04,  7.65it/s]\n"
          ]
        },
        {
          "output_type": "stream",
          "name": "stdout",
          "text": [
            "6-epoch validation process is completed!\n",
            "\n",
            "6-epoch validation loss          -> 0.639\n",
            "6-epoch validation accuracy      -> 0.731\n",
            "6-epoch validation f1-score      -> 0.731\n",
            "\n",
            "Best model saved with F1-Score: 0.731\n",
            "\n",
            "Epoch 7/50:\n",
            "\n"
          ]
        },
        {
          "output_type": "stream",
          "name": "stderr",
          "text": [
            "Training: 119it [00:30,  3.91it/s]"
          ]
        },
        {
          "output_type": "stream",
          "name": "stdout",
          "text": [
            "7-epoch train process is completed!\n",
            "\n",
            "7-epoch train loss          -> 0.483\n",
            "7-epoch train accuracy      -> 0.803\n",
            "7-epoch train f1-score      -> 0.803\n",
            "\n"
          ]
        },
        {
          "output_type": "stream",
          "name": "stderr",
          "text": [
            "\n",
            "Validation: 34it [00:05,  6.29it/s]\n"
          ]
        },
        {
          "output_type": "stream",
          "name": "stdout",
          "text": [
            "7-epoch validation process is completed!\n",
            "\n",
            "7-epoch validation loss          -> 0.554\n",
            "7-epoch validation accuracy      -> 0.767\n",
            "7-epoch validation f1-score      -> 0.767\n",
            "\n",
            "Best model saved with F1-Score: 0.767\n",
            "\n",
            "Epoch 8/50:\n",
            "\n"
          ]
        },
        {
          "output_type": "stream",
          "name": "stderr",
          "text": [
            "Training: 119it [00:30,  3.95it/s]"
          ]
        },
        {
          "output_type": "stream",
          "name": "stdout",
          "text": [
            "8-epoch train process is completed!\n",
            "\n",
            "8-epoch train loss          -> 0.419\n",
            "8-epoch train accuracy      -> 0.825\n",
            "8-epoch train f1-score      -> 0.825\n",
            "\n"
          ]
        },
        {
          "output_type": "stream",
          "name": "stderr",
          "text": [
            "\n",
            "Validation: 34it [00:04,  7.04it/s]\n"
          ]
        },
        {
          "output_type": "stream",
          "name": "stdout",
          "text": [
            "8-epoch validation process is completed!\n",
            "\n",
            "8-epoch validation loss          -> 0.528\n",
            "8-epoch validation accuracy      -> 0.803\n",
            "8-epoch validation f1-score      -> 0.803\n",
            "\n",
            "Best model saved with F1-Score: 0.803\n",
            "\n",
            "Epoch 9/50:\n",
            "\n"
          ]
        },
        {
          "output_type": "stream",
          "name": "stderr",
          "text": [
            "Training: 119it [00:31,  3.80it/s]"
          ]
        },
        {
          "output_type": "stream",
          "name": "stdout",
          "text": [
            "9-epoch train process is completed!\n",
            "\n",
            "9-epoch train loss          -> 0.398\n",
            "9-epoch train accuracy      -> 0.837\n",
            "9-epoch train f1-score      -> 0.837\n",
            "\n"
          ]
        },
        {
          "output_type": "stream",
          "name": "stderr",
          "text": [
            "\n",
            "Validation: 34it [00:04,  7.60it/s]"
          ]
        },
        {
          "output_type": "stream",
          "name": "stdout",
          "text": [
            "9-epoch validation process is completed!\n",
            "\n",
            "9-epoch validation loss          -> 0.601\n",
            "9-epoch validation accuracy      -> 0.763\n",
            "9-epoch validation f1-score      -> 0.763\n",
            "\n",
            "No improvement for 1 epoch(s).\n",
            "\n",
            "Epoch 10/50:\n",
            "\n"
          ]
        },
        {
          "output_type": "stream",
          "name": "stderr",
          "text": [
            "\n",
            "Training: 119it [00:30,  3.92it/s]"
          ]
        },
        {
          "output_type": "stream",
          "name": "stdout",
          "text": [
            "10-epoch train process is completed!\n",
            "\n",
            "10-epoch train loss          -> 0.379\n",
            "10-epoch train accuracy      -> 0.842\n",
            "10-epoch train f1-score      -> 0.842\n",
            "\n"
          ]
        },
        {
          "output_type": "stream",
          "name": "stderr",
          "text": [
            "\n",
            "Validation: 34it [00:05,  5.82it/s]"
          ]
        },
        {
          "output_type": "stream",
          "name": "stdout",
          "text": [
            "10-epoch validation process is completed!\n",
            "\n",
            "10-epoch validation loss          -> 0.587\n",
            "10-epoch validation accuracy      -> 0.758\n",
            "10-epoch validation f1-score      -> 0.758\n",
            "\n",
            "No improvement for 2 epoch(s).\n",
            "\n",
            "Epoch 11/50:\n",
            "\n"
          ]
        },
        {
          "output_type": "stream",
          "name": "stderr",
          "text": [
            "\n",
            "Training: 119it [00:30,  3.93it/s]"
          ]
        },
        {
          "output_type": "stream",
          "name": "stdout",
          "text": [
            "11-epoch train process is completed!\n",
            "\n",
            "11-epoch train loss          -> 0.350\n",
            "11-epoch train accuracy      -> 0.852\n",
            "11-epoch train f1-score      -> 0.852\n",
            "\n"
          ]
        },
        {
          "output_type": "stream",
          "name": "stderr",
          "text": [
            "\n",
            "Validation: 34it [00:04,  7.08it/s]"
          ]
        },
        {
          "output_type": "stream",
          "name": "stdout",
          "text": [
            "11-epoch validation process is completed!\n",
            "\n",
            "11-epoch validation loss          -> 0.471\n",
            "11-epoch validation accuracy      -> 0.810\n",
            "11-epoch validation f1-score      -> 0.810\n",
            "\n",
            "No improvement for 3 epoch(s).\n",
            "\n",
            "Epoch 12/50:\n",
            "\n"
          ]
        },
        {
          "output_type": "stream",
          "name": "stderr",
          "text": [
            "\n",
            "Training: 119it [00:30,  3.91it/s]"
          ]
        },
        {
          "output_type": "stream",
          "name": "stdout",
          "text": [
            "12-epoch train process is completed!\n",
            "\n",
            "12-epoch train loss          -> 0.346\n",
            "12-epoch train accuracy      -> 0.857\n",
            "12-epoch train f1-score      -> 0.857\n",
            "\n"
          ]
        },
        {
          "output_type": "stream",
          "name": "stderr",
          "text": [
            "\n",
            "Validation: 34it [00:05,  6.46it/s]"
          ]
        },
        {
          "output_type": "stream",
          "name": "stdout",
          "text": [
            "12-epoch validation process is completed!\n",
            "\n",
            "12-epoch validation loss          -> 0.504\n",
            "12-epoch validation accuracy      -> 0.806\n",
            "12-epoch validation f1-score      -> 0.806\n",
            "\n",
            "No improvement for 4 epoch(s).\n",
            "\n",
            "Epoch 13/50:\n",
            "\n"
          ]
        },
        {
          "output_type": "stream",
          "name": "stderr",
          "text": [
            "\n",
            "Training: 119it [00:30,  3.84it/s]"
          ]
        },
        {
          "output_type": "stream",
          "name": "stdout",
          "text": [
            "13-epoch train process is completed!\n",
            "\n",
            "13-epoch train loss          -> 0.338\n",
            "13-epoch train accuracy      -> 0.863\n",
            "13-epoch train f1-score      -> 0.863\n",
            "\n"
          ]
        },
        {
          "output_type": "stream",
          "name": "stderr",
          "text": [
            "\n",
            "Validation: 34it [00:04,  7.36it/s]\n"
          ]
        },
        {
          "output_type": "stream",
          "name": "stdout",
          "text": [
            "13-epoch validation process is completed!\n",
            "\n",
            "13-epoch validation loss          -> 0.477\n",
            "13-epoch validation accuracy      -> 0.806\n",
            "13-epoch validation f1-score      -> 0.806\n",
            "\n",
            "No improvement for 5 epoch(s).\n",
            "Early stopping triggered.\n",
            "Final model saved at: saved_models/knee_final_model.pth\n"
          ]
        }
      ]
    },
    {
      "cell_type": "code",
      "source": [
        "import matplotlib.pyplot as plt\n",
        "\n",
        "# Giả sử trainer đã được khởi tạo và run trước đó\n",
        "# Kiểm tra dữ liệu đã lưu\n",
        "print(f\"Number of epochs trained: {len(trainer.tr_losses)}\")\n",
        "print(f\"Train Losses: {trainer.tr_losses}\")\n",
        "print(f\"Validation Losses: {trainer.val_losses}\")\n",
        "print(f\"Train Accuracies: {trainer.tr_accs}\")\n",
        "print(f\"Validation Accuracies: {trainer.val_accs}\")\n",
        "print(f\"Train F1-Scores: {trainer.tr_f1s}\")\n",
        "print(f\"Validation F1-Scores: {trainer.val_f1s}\")\n",
        "\n",
        "# Vẽ đồ thị\n",
        "epochs = range(1, len(trainer.tr_losses) + 1)\n",
        "\n",
        "# Vẽ Loss\n",
        "plt.figure(figsize=(12, 4))\n",
        "plt.subplot(1, 3, 1)\n",
        "plt.plot(epochs, trainer.tr_losses, 'b-', label='Train Loss')\n",
        "plt.plot(epochs, trainer.val_losses, 'r-', label='Validation Loss')\n",
        "plt.title('Training and Validation Loss')\n",
        "plt.xlabel('Epoch')\n",
        "plt.ylabel('Loss')\n",
        "plt.legend()\n",
        "plt.grid(True)\n",
        "\n",
        "# Vẽ Accuracy\n",
        "plt.subplot(1, 3, 2)\n",
        "plt.plot(epochs, trainer.tr_accs, 'b-', label='Train Accuracy')\n",
        "plt.plot(epochs, trainer.val_accs, 'r-', label='Validation Accuracy')\n",
        "plt.title('Training and Validation Accuracy')\n",
        "plt.xlabel('Epoch')\n",
        "plt.ylabel('Accuracy')\n",
        "plt.legend()\n",
        "plt.grid(True)\n",
        "\n",
        "# Vẽ F1-Score\n",
        "plt.subplot(1, 3, 3)\n",
        "plt.plot(epochs, trainer.tr_f1s, 'b-', label='Train F1-Score')\n",
        "plt.plot(epochs, trainer.val_f1s, 'r-', label='Validation F1-Score')\n",
        "plt.title('Training and Validation F1-Score')\n",
        "plt.xlabel('Epoch')\n",
        "plt.ylabel('F1-Score')\n",
        "plt.legend()\n",
        "plt.grid(True)\n",
        "\n",
        "plt.tight_layout()\n",
        "plt.show()"
      ],
      "metadata": {
        "colab": {
          "base_uri": "https://localhost:8080/",
          "height": 548
        },
        "id": "--vME-imn1ss",
        "outputId": "d78ce618-5c5b-4ec4-a749-f104d0cc23e4"
      },
      "execution_count": null,
      "outputs": [
        {
          "output_type": "stream",
          "name": "stdout",
          "text": [
            "Number of epochs trained: 13\n",
            "Train Losses: [1.438251939140448, 0.9239192827909934, 0.7452759449722386, 0.6547232082411021, 0.5737722626253337, 0.5323901461953876, 0.4834895411960217, 0.418789658977204, 0.3977762944057208, 0.37888793916511937, 0.34994058317246557, 0.3458035978324273, 0.33759434890596807]\n",
            "Validation Losses: [1.0676602300475626, 0.8812998989049126, 0.7284178335000487, 0.7849603488164789, 0.7144819686517996, 0.6388490285505267, 0.5538580084548277, 0.527898396639263, 0.6008601196329383, 0.5869099377271008, 0.47137326593784723, 0.5035808361409342, 0.4766116718597272]\n",
            "Train Accuracies: [0.5878306878306878, 0.6439153439153439, 0.6984126984126984, 0.7193121693121693, 0.7605820105820106, 0.7801587301587302, 0.8031746031746032, 0.8253968253968254, 0.8367724867724867, 0.8415343915343916, 0.8523809523809524, 0.8566137566137566, 0.8632275132275132]\n",
            "Validation Accuracies: [0.5916666666666667, 0.6361111111111111, 0.6787037037037037, 0.6768518518518518, 0.7074074074074074, 0.7305555555555555, 0.7666666666666667, 0.8027777777777778, 0.762962962962963, 0.7583333333333333, 0.8101851851851852, 0.8064814814814815, 0.8055555555555556]\n",
            "Train F1-Scores: [0.587830662727356, 0.6439153552055359, 0.6984127163887024, 0.7193121910095215, 0.7605820298194885, 0.7801587581634521, 0.803174614906311, 0.8253968358039856, 0.8367725014686584, 0.8415343761444092, 0.8523809313774109, 0.8566137552261353, 0.8632274866104126]\n",
            "Validation F1-Scores: [0.5916666388511658, 0.6361111402511597, 0.6787037253379822, 0.6768518686294556, 0.7074074149131775, 0.730555534362793, 0.7666666507720947, 0.8027777671813965, 0.7629629373550415, 0.7583333253860474, 0.8101851940155029, 0.8064814805984497, 0.8055555820465088]\n"
          ]
        },
        {
          "output_type": "display_data",
          "data": {
            "text/plain": [
              "<Figure size 1200x400 with 3 Axes>"
            ],
            "image/png": "[encoded data removed]"
          },
          "metadata": {}
        }
      ]
    },
    {
      "cell_type": "code",
      "source": [
        "import os\n",
        "save_dir = \"saved_models\"  # Hoặc \"/content/drive/MyDrive/saved_models\" nếu lưu vào Drive\n",
        "print(f\"Directory exists: {os.path.exists(save_dir)}\")\n",
        "if os.path.exists(save_dir):\n",
        "    print(f\"Files in {save_dir}: {os.listdir(save_dir)}\")\n",
        "else:\n",
        "    print(f\"Directory {save_dir} not found. Check if it was saved to Google Drive or reset runtime.\")"
      ],
      "metadata": {
        "colab": {
          "base_uri": "https://localhost:8080/"
        },
        "id": "d3XVU_Z5ARrE",
        "outputId": "3cb98cdd-f67e-40d8-d2d0-a6952cd8cd19"
      },
      "execution_count": null,
      "outputs": [
        {
          "output_type": "stream",
          "name": "stdout",
          "text": [
            "Directory exists: True\n",
            "Files in saved_models: ['knee_best_model.pth', 'knee_final_model.pth']\n"
          ]
        }
      ]
    },
    {
      "cell_type": "code",
      "source": [
        "import os\n",
        "import shutil\n",
        "\n",
        "# Kiểm tra file trong /content/saved_models\n",
        "save_dir = \"saved_models\"\n",
        "print(f\"Files in {save_dir}: {os.listdir(save_dir)}\")\n",
        "\n",
        "# Di chuyển thư mục sang Google Drive\n",
        "new_save_dir = \"/content/drive/MyDrive/saved_models\"\n",
        "os.makedirs(new_save_dir, exist_ok=True)\n",
        "shutil.move(save_dir, new_save_dir)\n",
        "print(f\"Moved {save_dir} to {new_save_dir}\")"
      ],
      "metadata": {
        "id": "D50OquH1BTDN",
        "outputId": "ef1ecfa8-1d37-4275-c848-d69799c44996",
        "colab": {
          "base_uri": "https://localhost:8080/"
        }
      },
      "execution_count": null,
      "outputs": [
        {
          "output_type": "stream",
          "name": "stdout",
          "text": [
            "Files in saved_models: ['knee_best_model.pth', 'knee_final_model.pth']\n",
            "Moved saved_models to /content/drive/MyDrive/saved_models\n"
          ]
        }
      ]
    }
  ]
}